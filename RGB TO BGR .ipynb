{
 "cells": [
  {
   "cell_type": "code",
   "execution_count": 1,
   "id": "3f8c4625-34c8-4436-945f-d6a644a00a1d",
   "metadata": {},
   "outputs": [],
   "source": [
    "import cv2 as cv\n",
    "import numpy as np\n",
    "import matplotlib.pyplot as plt"
   ]
  },
  {
   "cell_type": "code",
   "execution_count": 3,
   "id": "9cbb9454-d5d0-4694-bd2e-2cea6e31a32e",
   "metadata": {},
   "outputs": [],
   "source": [
    "img = cv.imread('image5.png')"
   ]
  },
  {
   "cell_type": "code",
   "execution_count": 5,
   "id": "fc9620cb-e4e2-48d2-b9eb-b6ee7c521cc3",
   "metadata": {},
   "outputs": [],
   "source": [
    "cv.imshow(\"img\", img)\n",
    "cv.waitKey(0)\n",
    "cv.destroyAllWindows()"
   ]
  },
  {
   "cell_type": "markdown",
   "id": "597fbf12-2721-449e-a6d7-9a5ee76c9cc8",
   "metadata": {},
   "source": [
    "### BGR TO RGB"
   ]
  },
  {
   "cell_type": "code",
   "execution_count": 7,
   "id": "6c52e64a-1276-4118-8506-63177c443c94",
   "metadata": {},
   "outputs": [],
   "source": [
    "import cv2 as cv\n",
    "img = cv.imread('image5.png')\n",
    "img = cv.cvtColor(img, cv.COLOR_BGR2RGB)\n",
    "cv.imshow(\"BGR TO RGB\",img)\n",
    "cv.waitKey(0)\n",
    "cv.destroyAllWindows()"
   ]
  },
  {
   "cell_type": "markdown",
   "id": "4c287b86-2ce3-405a-8887-b90918fed8df",
   "metadata": {},
   "source": [
    "### RGB TO BGR"
   ]
  },
  {
   "cell_type": "code",
   "execution_count": 11,
   "id": "05307499-30c4-4062-8c9c-c25f1f50b78e",
   "metadata": {},
   "outputs": [],
   "source": [
    "import cv2 as cv\n",
    "img = cv.imread('image5.png')\n",
    "img = cv.cvtColor(img, cv.COLOR_RGB2BGR)\n",
    "cv.imshow(\"RGB TO BGR\",img)\n",
    "cv.waitKey(0)\n",
    "cv.destroyAllWindows()"
   ]
  }
 ],
 "metadata": {
  "kernelspec": {
   "display_name": "Python 3 (ipykernel)",
   "language": "python",
   "name": "python3"
  },
  "language_info": {
   "codemirror_mode": {
    "name": "ipython",
    "version": 3
   },
   "file_extension": ".py",
   "mimetype": "text/x-python",
   "name": "python",
   "nbconvert_exporter": "python",
   "pygments_lexer": "ipython3",
   "version": "3.12.4"
  }
 },
 "nbformat": 4,
 "nbformat_minor": 5
}
