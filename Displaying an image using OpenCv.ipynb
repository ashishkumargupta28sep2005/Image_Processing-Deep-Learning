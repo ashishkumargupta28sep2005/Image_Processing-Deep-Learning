{
 "cells": [
  {
   "cell_type": "code",
   "execution_count": 1,
   "id": "6379610e-6d3a-4f92-8665-ea099a314ec1",
   "metadata": {},
   "outputs": [],
   "source": [
    "import cv2 as cv\n",
    "import numpy as np\n",
    "import matplotlib.pyplot as plt"
   ]
  },
  {
   "cell_type": "markdown",
   "id": "08561b56-d074-4401-b4e0-9447a16b6557",
   "metadata": {},
   "source": [
    "### Loading an image using OpenCv"
   ]
  },
  {
   "cell_type": "code",
   "execution_count": 29,
   "id": "d2e9bb8a-8135-4be8-8b50-94a4ba66bf9d",
   "metadata": {},
   "outputs": [
    {
     "data": {
      "text/plain": [
       "65"
      ]
     },
     "execution_count": 29,
     "metadata": {},
     "output_type": "execute_result"
    }
   ],
   "source": [
    "img=cv.imread(\"rgb.jpeg\")\n",
    "img=cv.cvtColor(img,cv.COLOR_BGR2RGB)\n",
    "cv.imshow(\"Image\",img)\n",
    "cv.waitKey(0)"
   ]
  },
  {
   "cell_type": "markdown",
   "id": "7ceab77a-85b7-4a28-a6d3-26781772d752",
   "metadata": {},
   "source": [
    "### Displaying Three Frames on RGB"
   ]
  },
  {
   "cell_type": "code",
   "execution_count": null,
   "id": "d356b5f0-b2c7-4254-aecd-6566600712cb",
   "metadata": {},
   "outputs": [],
   "source": [
    "img=cv.imread(\"rgb.jpeg\")\n",
    "img=cv.cvtColor(img,cv.COLOR_BGR2RGB)\n",
    "\n",
    "r=img[:,:,0]\n",
    "g=img[:,:,1]\n",
    "b=img[:,:,2]\n",
    "\n",
    "cv.imshow(\"Frame\",r)\n",
    "cv.waitKey(0)\n",
    "\n",
    "cv.imshow(\"Frame\",g)\n",
    "cv.waitKey(0)\n",
    "\n",
    "cv.imshow(\"Frame\",b)\n",
    "cv.waitKey(0)"
   ]
  }
 ],
 "metadata": {
  "kernelspec": {
   "display_name": "Python 3 (ipykernel)",
   "language": "python",
   "name": "python3"
  },
  "language_info": {
   "codemirror_mode": {
    "name": "ipython",
    "version": 3
   },
   "file_extension": ".py",
   "mimetype": "text/x-python",
   "name": "python",
   "nbconvert_exporter": "python",
   "pygments_lexer": "ipython3",
   "version": "3.12.4"
  }
 },
 "nbformat": 4,
 "nbformat_minor": 5
}
