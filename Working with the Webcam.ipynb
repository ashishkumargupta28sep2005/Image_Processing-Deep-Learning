{
 "cells": [
  {
   "cell_type": "code",
   "execution_count": 1,
   "id": "54d577d9-f199-4895-8a34-c9a1861d2e25",
   "metadata": {},
   "outputs": [],
   "source": [
    "import cv2 as cv\n",
    "cam = cv.VideoCapture(0) #0 because I’m using internal camera of my laptop\n",
    "while True: #We used an infinite loop so that I can display video instead of images in the window\n",
    "  _, img = cam.read() #_ is a boolean variable that returns true if the frame is available and img is an image array vector captured based on the default frames per second defined explicitly or implicitly\n",
    "  cv.imshow(\"Frame\",img)\n",
    "  key = cv.waitKey(1) #delay of 1ms\n",
    "  if (key == 27):   #27 is ASCII for esc\n",
    "    cam.release()\n",
    "    break\n",
    "cam.release()\n",
    "cv.destroyAllWindows()"
   ]
  }
 ],
 "metadata": {
  "kernelspec": {
   "display_name": "Python 3 (ipykernel)",
   "language": "python",
   "name": "python3"
  },
  "language_info": {
   "codemirror_mode": {
    "name": "ipython",
    "version": 3
   },
   "file_extension": ".py",
   "mimetype": "text/x-python",
   "name": "python",
   "nbconvert_exporter": "python",
   "pygments_lexer": "ipython3",
   "version": "3.12.4"
  }
 },
 "nbformat": 4,
 "nbformat_minor": 5
}
